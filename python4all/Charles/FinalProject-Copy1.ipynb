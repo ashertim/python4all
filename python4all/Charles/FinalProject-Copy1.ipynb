{
 "cells": [
  {
   "cell_type": "code",
   "execution_count": 25,
   "metadata": {},
   "outputs": [
    {
     "ename": "NameError",
     "evalue": "name 'scrape_data' is not defined",
     "output_type": "error",
     "traceback": [
      "\u001b[1;31m---------------------------------------------------------------------------\u001b[0m",
      "\u001b[1;31mNameError\u001b[0m                                 Traceback (most recent call last)",
      "\u001b[1;32m<ipython-input-25-c5ce6a1c2342>\u001b[0m in \u001b[0;36m<module>\u001b[1;34m\u001b[0m\n\u001b[0;32m      1\u001b[0m \u001b[1;31m#%run project.py\u001b[0m\u001b[1;33m\u001b[0m\u001b[1;33m\u001b[0m\u001b[1;33m\u001b[0m\u001b[0m\n\u001b[0;32m      2\u001b[0m \u001b[1;33m\u001b[0m\u001b[0m\n\u001b[1;32m----> 3\u001b[1;33m \u001b[0mscrape_data\u001b[0m\u001b[1;33m(\u001b[0m\u001b[1;33m)\u001b[0m\u001b[1;33m;\u001b[0m\u001b[1;33m\u001b[0m\u001b[1;33m\u001b[0m\u001b[0m\n\u001b[0m",
      "\u001b[1;31mNameError\u001b[0m: name 'scrape_data' is not defined"
     ]
    }
   ],
   "source": [
    "#%run project.py\n",
    "\n",
    "scrape_data();"
   ]
  },
  {
   "cell_type": "code",
   "execution_count": null,
   "metadata": {},
   "outputs": [],
   "source": [
    "import pandas as pd\n",
    "from matplotlib import pyplot as plt"
   ]
  },
  {
   "cell_type": "code",
   "execution_count": null,
   "metadata": {},
   "outputs": [],
   "source": [
    "data1 = pd.read_csv('average_salary_state.csv')\n",
    "\n",
    "\n",
    "x=data1[\"State\"]\n",
    "y=data1[\"Average Python salary 2020\"]\n",
    "z=data1[\"Employees, users, and past/ present job ads\"]\n",
    "\n",
    "fig = plt.figure()\n",
    "\n",
    "ax = fig.add_axes([0,0,3,2])\n",
    "\n",
    "\n",
    "ax.bar(x,y)\n",
    "\n",
    "\n",
    "ax.set_xlabel('STATE', fontsize=30, color='black') \n",
    "ax.set_ylabel('AVERAGE PYTHON SALARY', fontsize=30, color='black')\n",
    "\n",
    "\n",
    "plt.show()\n",
    "\n",
    "\n",
    "fig = plt.figure()\n",
    "\n",
    "ax = fig.add_axes([0,0,3,2])\n",
    "\n",
    "ax.bar(x,z)\n",
    "\n",
    "ax.set_xlabel('STATE', fontsize=30, color='black') \n",
    "ax.set_ylabel('JOB ADVERTISEMENTS', fontsize=30, color='black')\n",
    "\n",
    "plt.savefig(\"state-salary.png\")\n",
    "\n",
    "plt.show()\n"
   ]
  },
  {
   "cell_type": "code",
   "execution_count": null,
   "metadata": {},
   "outputs": [],
   "source": [
    "data1 = pd.read_csv('average_salary_cities.csv')\n",
    "\n",
    "\n",
    "x=data1[\"City\"]\n",
    "y=data1[\"Average Salary 2020\"]\n",
    "\n",
    "fig = plt.figure()\n",
    "\n",
    "ax = fig.add_axes([0,0,2,1])\n",
    "\n",
    "\n",
    "ax.bar(x,y)\n",
    "\n",
    "\n",
    "ax.set_xlabel('CITY', fontsize=20, color='black') \n",
    "ax.set_ylabel('AVERAGE SALARY', fontsize=20, color='black')\n",
    "\n",
    "plt.savefig(\"city-salary.png\")\n",
    "\n",
    "plt.show()"
   ]
  },
  {
   "cell_type": "code",
   "execution_count": null,
   "metadata": {},
   "outputs": [],
   "source": [
    "data1 = pd.read_csv('average_salary_world.csv')\n",
    "\n",
    "\n",
    "x=data1[\"Country\"]\n",
    "y=data1[\"Python developer salary\"]\n",
    "\n",
    "fig = plt.figure()\n",
    "\n",
    "ax = fig.add_axes([0,0,2,1])\n",
    "\n",
    "\n",
    "ax.bar(x,y)\n",
    "\n",
    "\n",
    "ax.set_xlabel('COUNTRY', fontsize=17, color='black') \n",
    "ax.set_ylabel('PYTHON DEVELOPER SALARY', fontsize=17, color='black')\n",
    "\n",
    "plt.savefig(\"country-salary.png\")\n",
    "\n",
    "plt.show()"
   ]
  },
  {
   "cell_type": "code",
   "execution_count": null,
   "metadata": {},
   "outputs": [],
   "source": [
    "import tkinter as tk\n",
    "class Application(tk.Frame):\n",
    "    def __init__(self, master=None):\n",
    "        super().__init__(master)\n",
    "        self.master = master\n",
    "        self.pack()\n",
    "        self.create_buttons()\n",
    "        \n",
    "    def show_plot(self, plot):\n",
    "        plot_window = tk.Tk()\n",
    "        plot_window.title('Python Salary Plot')\n",
    "        plot_window.geometry('650x650')\n",
    "        \n",
    "        canvas = tk.Canvas(plot_window, width = 600, height = 600, bg = 'white')        \n",
    "        canvas.create_image(0, 0, image = plot)\n",
    "\n",
    "        canvas.place( x = 0, y = 0)\n",
    "        \n",
    "        plot_window.mainloop()\n",
    "        \n",
    "    def create_buttons(self):\n",
    "        self.state_salary = tk.Button(self)\n",
    "        self.state_salary[\"text\"] = \"State vs Salary\"\n",
    "        self.state_salary[\"command\"] = self.show_plot(\"state-salary.png\")\n",
    "        self.state_salary.pack(side=\"top\")\n",
    "        \n",
    "        self.quit = tk.Button(self, text=\"Exit\", fg=\"red\",\n",
    "                              command=self.master.destroy)\n",
    "        self.quit.pack(side=\"bottom\")\n",
    "        \n",
    "        \n",
    "root = tk.Tk()\n",
    "app = Application(master=root)\n",
    "app.mainloop()"
   ]
  },
  {
   "cell_type": "code",
   "execution_count": null,
   "metadata": {},
   "outputs": [],
   "source": []
  },
  {
   "cell_type": "code",
   "execution_count": null,
   "metadata": {},
   "outputs": [],
   "source": []
  }
 ],
 "metadata": {
  "kernelspec": {
   "display_name": "Python 3",
   "language": "python",
   "name": "python3"
  },
  "language_info": {
   "codemirror_mode": {
    "name": "ipython",
    "version": 3
   },
   "file_extension": ".py",
   "mimetype": "text/x-python",
   "name": "python",
   "nbconvert_exporter": "python",
   "pygments_lexer": "ipython3",
   "version": "3.8.3"
  }
 },
 "nbformat": 4,
 "nbformat_minor": 2
}
