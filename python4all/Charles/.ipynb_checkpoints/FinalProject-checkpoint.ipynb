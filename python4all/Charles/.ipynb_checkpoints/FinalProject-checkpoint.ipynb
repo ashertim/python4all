{
 "cells": [
  {
   "cell_type": "code",
   "execution_count": 9,
   "metadata": {},
   "outputs": [],
   "source": [
    "#%run project.py\n",
    "\n",
    "scrape_data();"
   ]
  },
  {
   "cell_type": "code",
   "execution_count": null,
   "metadata": {},
   "outputs": [],
   "source": [
    "import pandas as pd\n",
    "from matplotlib import pyplot as plt"
   ]
  },
  {
   "cell_type": "code",
   "execution_count": null,
   "metadata": {},
   "outputs": [],
   "source": [
    "data1 = pd.read_csv('average_salary_state.csv')\n",
    "\n",
    "\n",
    "x=data1[\"State\"]\n",
    "y=data1[\"Average Python salary 2020\"]\n",
    "z=data1[\"Employees, users, and past/ present job ads\"]\n",
    "\n",
    "fig = plt.figure()\n",
    "\n",
    "ax = fig.add_axes([0,0,3,2])\n",
    "\n",
    "\n",
    "ax.bar(x,y)\n",
    "\n",
    "\n",
    "ax.set_xlabel('STATE', fontsize=30, color='black') \n",
    "ax.set_ylabel('AVERAGE PYTHON SALARY', fontsize=30, color='black')\n",
    "\n",
    "\n",
    "plt.show()\n",
    "\n",
    "\n",
    "fig = plt.figure()\n",
    "\n",
    "ax = fig.add_axes([0,0,3,2])\n",
    "\n",
    "ax.bar(x,z)\n",
    "\n",
    "ax.set_xlabel('STATE', fontsize=30, color='black') \n",
    "ax.set_ylabel('JOB ADVERTISEMENTS', fontsize=30, color='black')\n",
    "\n",
    "\n",
    "plt.show()\n"
   ]
  },
  {
   "cell_type": "code",
   "execution_count": null,
   "metadata": {},
   "outputs": [],
   "source": [
    "data1 = pd.read_csv('average_salary_cities.csv')\n",
    "\n",
    "\n",
    "x=data1[\"City\"]\n",
    "y=data1[\"Average Salary 2020\"]\n",
    "\n",
    "fig = plt.figure()\n",
    "\n",
    "ax = fig.add_axes([0,0,2,1])\n",
    "\n",
    "\n",
    "ax.bar(x,y)\n",
    "\n",
    "\n",
    "ax.set_xlabel('CITY', fontsize=20, color='black') \n",
    "ax.set_ylabel('AVERAGE SALARY', fontsize=20, color='black')\n",
    "\n",
    "\n",
    "plt.show()"
   ]
  },
  {
   "cell_type": "code",
   "execution_count": null,
   "metadata": {},
   "outputs": [],
   "source": [
    "data1 = pd.read_csv('average_salary_world.csv')\n",
    "\n",
    "\n",
    "x=data1[\"Country\"]\n",
    "y=data1[\"Python developer salary\"]\n",
    "\n",
    "fig = plt.figure()\n",
    "\n",
    "ax = fig.add_axes([0,0,2,1])\n",
    "\n",
    "\n",
    "ax.bar(x,y)\n",
    "\n",
    "\n",
    "ax.set_xlabel('COUNTRY', fontsize=17, color='black') \n",
    "ax.set_ylabel('PYTHON DEVELOPER SALARY', fontsize=17, color='black')\n",
    "\n",
    "\n",
    "plt.show()"
   ]
  },
  {
   "cell_type": "code",
   "execution_count": null,
   "metadata": {},
   "outputs": [],
   "source": []
  }
 ],
 "metadata": {
  "kernelspec": {
   "display_name": "Python 3",
   "language": "python",
   "name": "python3"
  },
  "language_info": {
   "codemirror_mode": {
    "name": "ipython",
    "version": 3
   },
   "file_extension": ".py",
   "mimetype": "text/x-python",
   "name": "python",
   "nbconvert_exporter": "python",
   "pygments_lexer": "ipython3",
   "version": "3.7.4"
  }
 },
 "nbformat": 4,
 "nbformat_minor": 2
}
